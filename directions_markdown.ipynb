{
 "cells": [
  {
   "cell_type": "markdown",
   "metadata": {},
   "source": [
    "### Syntax\n",
    "- css and java must be in external files\n",
    "- must declare `'use strict'` in the js file"
   ]
  },
  {
   "cell_type": "markdown",
   "metadata": {},
   "source": [
    "### 1st User Story\n",
    ">As a user, I would like to learn about the site owner so I can get to know them better.\n",
    "- create an \"about me\" guessing game for the user - utilizes js html and css\n",
    "    - two truths one lie\n",
    "    - matching game\n",
    "    - multiple choice\n",
    "- include in html:\n",
    "    - short biography\n",
    "    - your education history\n",
    "    - an overview of your job experience\n",
    "    - any goals that you may have\n",
    "- prompt 5 yes or no questions\n",
    "    - utilize normalizing the user input via `.toUpperCase()` or `.toLowerCase()`\n",
    "    - alert the user on if they got the question right or wrong also \n",
    "    - use `console.log()` to record the answers - comment this section out\n",
    "    \n",
    "\n",
    "\n"
   ]
  },
  {
   "cell_type": "markdown",
   "metadata": {},
   "source": [
    "### 2nd User Story\n",
    ">As a user, I would like a personalized welcome message so that I feel like I am interacting with the site owner.\n",
    "- ask user name through prompt\n",
    "- display name back to user through cutsom greeting welcoming them\n",
    "- display the user's name back in final message to user"
   ]
  }
 ],
 "metadata": {
  "language_info": {
   "name": "python"
  }
 },
 "nbformat": 4,
 "nbformat_minor": 2
}
