{
 "cells": [
  {
   "cell_type": "markdown",
   "metadata": {},
   "source": [
    "## 1st User Story\n",
    "- short bio\n",
    "- education history\n",
    "- job experience\n",
    "- any goals\n",
    "\n",
    "- two truths and a lie\n",
    "    - lie: i have 1 year of coding experience\n",
    "    - truth: i learned python at age 8\n",
    "    - truth: my middle school coding teacher taught me javascript\n",
    "\n",
    "- 5 yes or no questions\n",
    "    - when you are faced with a difficult question that decides the fate of thousands of people, do you cripple under the pressure?\n",
    "    - is eve a monster?\n",
    "    - are you shorter than perla?\n",
    "    - do you believe in god?\n",
    "    - is this week over yet?\n",
    "\n",
    "## 2nd User Story\n",
    "- ask the user's name through a prompt\n",
    "- use the user's name in a greeting\n",
    "- display the name back to them in our final message\n",
    "\n",
    "## Syntax\n",
    "- js file must have a use strict line at the top\n",
    "- the css and the js to be external"
   ]
  }
 ],
 "metadata": {
  "language_info": {
   "name": "python"
  }
 },
 "nbformat": 4,
 "nbformat_minor": 2
}
